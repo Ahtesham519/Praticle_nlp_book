{
  "nbformat": 4,
  "nbformat_minor": 0,
  "metadata": {
    "colab": {
      "provenance": [],
      "authorship_tag": "ABX9TyMg2IvI77jLjE6kDkHNZSqZ",
      "include_colab_link": true
    },
    "kernelspec": {
      "name": "python3",
      "display_name": "Python 3"
    },
    "language_info": {
      "name": "python"
    }
  },
  "cells": [
    {
      "cell_type": "markdown",
      "metadata": {
        "id": "view-in-github",
        "colab_type": "text"
      },
      "source": [
        "<a href=\"https://colab.research.google.com/github/Ahtesham519/Praticle_nlp_book/blob/main/Word_cloud.ipynb\" target=\"_parent\"><img src=\"https://colab.research.google.com/assets/colab-badge.svg\" alt=\"Open In Colab\"/></a>"
      ]
    },
    {
      "cell_type": "code",
      "execution_count": null,
      "metadata": {
        "colab": {
          "base_uri": "https://localhost:8080/",
          "height": 108
        },
        "id": "XiN03ZJWS9gP",
        "outputId": "8f7c7d39-5514-43c7-fd0a-6c0a5e242a79"
      },
      "outputs": [
        {
          "output_type": "display_data",
          "data": {
            "text/plain": [
              "<IPython.core.display.HTML object>"
            ],
            "text/html": [
              "\n",
              "     <input type=\"file\" id=\"files-5e08751e-c1df-42b3-8871-f1517f90da2d\" name=\"files[]\" multiple disabled\n",
              "        style=\"border:none\" />\n",
              "     <output id=\"result-5e08751e-c1df-42b3-8871-f1517f90da2d\">\n",
              "      Upload widget is only available when the cell has been executed in the\n",
              "      current browser session. Please rerun this cell to enable.\n",
              "      </output>\n",
              "      <script>// Copyright 2017 Google LLC\n",
              "//\n",
              "// Licensed under the Apache License, Version 2.0 (the \"License\");\n",
              "// you may not use this file except in compliance with the License.\n",
              "// You may obtain a copy of the License at\n",
              "//\n",
              "//      http://www.apache.org/licenses/LICENSE-2.0\n",
              "//\n",
              "// Unless required by applicable law or agreed to in writing, software\n",
              "// distributed under the License is distributed on an \"AS IS\" BASIS,\n",
              "// WITHOUT WARRANTIES OR CONDITIONS OF ANY KIND, either express or implied.\n",
              "// See the License for the specific language governing permissions and\n",
              "// limitations under the License.\n",
              "\n",
              "/**\n",
              " * @fileoverview Helpers for google.colab Python module.\n",
              " */\n",
              "(function(scope) {\n",
              "function span(text, styleAttributes = {}) {\n",
              "  const element = document.createElement('span');\n",
              "  element.textContent = text;\n",
              "  for (const key of Object.keys(styleAttributes)) {\n",
              "    element.style[key] = styleAttributes[key];\n",
              "  }\n",
              "  return element;\n",
              "}\n",
              "\n",
              "// Max number of bytes which will be uploaded at a time.\n",
              "const MAX_PAYLOAD_SIZE = 100 * 1024;\n",
              "\n",
              "function _uploadFiles(inputId, outputId) {\n",
              "  const steps = uploadFilesStep(inputId, outputId);\n",
              "  const outputElement = document.getElementById(outputId);\n",
              "  // Cache steps on the outputElement to make it available for the next call\n",
              "  // to uploadFilesContinue from Python.\n",
              "  outputElement.steps = steps;\n",
              "\n",
              "  return _uploadFilesContinue(outputId);\n",
              "}\n",
              "\n",
              "// This is roughly an async generator (not supported in the browser yet),\n",
              "// where there are multiple asynchronous steps and the Python side is going\n",
              "// to poll for completion of each step.\n",
              "// This uses a Promise to block the python side on completion of each step,\n",
              "// then passes the result of the previous step as the input to the next step.\n",
              "function _uploadFilesContinue(outputId) {\n",
              "  const outputElement = document.getElementById(outputId);\n",
              "  const steps = outputElement.steps;\n",
              "\n",
              "  const next = steps.next(outputElement.lastPromiseValue);\n",
              "  return Promise.resolve(next.value.promise).then((value) => {\n",
              "    // Cache the last promise value to make it available to the next\n",
              "    // step of the generator.\n",
              "    outputElement.lastPromiseValue = value;\n",
              "    return next.value.response;\n",
              "  });\n",
              "}\n",
              "\n",
              "/**\n",
              " * Generator function which is called between each async step of the upload\n",
              " * process.\n",
              " * @param {string} inputId Element ID of the input file picker element.\n",
              " * @param {string} outputId Element ID of the output display.\n",
              " * @return {!Iterable<!Object>} Iterable of next steps.\n",
              " */\n",
              "function* uploadFilesStep(inputId, outputId) {\n",
              "  const inputElement = document.getElementById(inputId);\n",
              "  inputElement.disabled = false;\n",
              "\n",
              "  const outputElement = document.getElementById(outputId);\n",
              "  outputElement.innerHTML = '';\n",
              "\n",
              "  const pickedPromise = new Promise((resolve) => {\n",
              "    inputElement.addEventListener('change', (e) => {\n",
              "      resolve(e.target.files);\n",
              "    });\n",
              "  });\n",
              "\n",
              "  const cancel = document.createElement('button');\n",
              "  inputElement.parentElement.appendChild(cancel);\n",
              "  cancel.textContent = 'Cancel upload';\n",
              "  const cancelPromise = new Promise((resolve) => {\n",
              "    cancel.onclick = () => {\n",
              "      resolve(null);\n",
              "    };\n",
              "  });\n",
              "\n",
              "  // Wait for the user to pick the files.\n",
              "  const files = yield {\n",
              "    promise: Promise.race([pickedPromise, cancelPromise]),\n",
              "    response: {\n",
              "      action: 'starting',\n",
              "    }\n",
              "  };\n",
              "\n",
              "  cancel.remove();\n",
              "\n",
              "  // Disable the input element since further picks are not allowed.\n",
              "  inputElement.disabled = true;\n",
              "\n",
              "  if (!files) {\n",
              "    return {\n",
              "      response: {\n",
              "        action: 'complete',\n",
              "      }\n",
              "    };\n",
              "  }\n",
              "\n",
              "  for (const file of files) {\n",
              "    const li = document.createElement('li');\n",
              "    li.append(span(file.name, {fontWeight: 'bold'}));\n",
              "    li.append(span(\n",
              "        `(${file.type || 'n/a'}) - ${file.size} bytes, ` +\n",
              "        `last modified: ${\n",
              "            file.lastModifiedDate ? file.lastModifiedDate.toLocaleDateString() :\n",
              "                                    'n/a'} - `));\n",
              "    const percent = span('0% done');\n",
              "    li.appendChild(percent);\n",
              "\n",
              "    outputElement.appendChild(li);\n",
              "\n",
              "    const fileDataPromise = new Promise((resolve) => {\n",
              "      const reader = new FileReader();\n",
              "      reader.onload = (e) => {\n",
              "        resolve(e.target.result);\n",
              "      };\n",
              "      reader.readAsArrayBuffer(file);\n",
              "    });\n",
              "    // Wait for the data to be ready.\n",
              "    let fileData = yield {\n",
              "      promise: fileDataPromise,\n",
              "      response: {\n",
              "        action: 'continue',\n",
              "      }\n",
              "    };\n",
              "\n",
              "    // Use a chunked sending to avoid message size limits. See b/62115660.\n",
              "    let position = 0;\n",
              "    do {\n",
              "      const length = Math.min(fileData.byteLength - position, MAX_PAYLOAD_SIZE);\n",
              "      const chunk = new Uint8Array(fileData, position, length);\n",
              "      position += length;\n",
              "\n",
              "      const base64 = btoa(String.fromCharCode.apply(null, chunk));\n",
              "      yield {\n",
              "        response: {\n",
              "          action: 'append',\n",
              "          file: file.name,\n",
              "          data: base64,\n",
              "        },\n",
              "      };\n",
              "\n",
              "      let percentDone = fileData.byteLength === 0 ?\n",
              "          100 :\n",
              "          Math.round((position / fileData.byteLength) * 100);\n",
              "      percent.textContent = `${percentDone}% done`;\n",
              "\n",
              "    } while (position < fileData.byteLength);\n",
              "  }\n",
              "\n",
              "  // All done.\n",
              "  yield {\n",
              "    response: {\n",
              "      action: 'complete',\n",
              "    }\n",
              "  };\n",
              "}\n",
              "\n",
              "scope.google = scope.google || {};\n",
              "scope.google.colab = scope.google.colab || {};\n",
              "scope.google.colab._files = {\n",
              "  _uploadFiles,\n",
              "  _uploadFilesContinue,\n",
              "};\n",
              "})(self);\n",
              "</script> "
            ]
          },
          "metadata": {}
        },
        {
          "output_type": "stream",
          "name": "stdout",
          "text": [
            "Saving sts_gold_tweet.csv to sts_gold_tweet.csv\n",
            "Saving Chapter4.txt to Chapter4.txt\n"
          ]
        }
      ],
      "source": [
        "import pandas as pd\n",
        "from pathlib import Path\n",
        "\n",
        "try:\n",
        "  from google.colab import files\n",
        "  uploaded = files.upload()\n",
        "  csv_file = \"sts_gold_tweet.csv\"\n",
        "  txt_file = \"Chapter4.txt\"\n",
        "\n",
        "except ModuleNotFoundError:\n",
        "  csv_file = Path.cwd()  / \"Data\"/\"stsgold_tweet.csv\"\n",
        "  txt_file = Path.cwd() / \"Data\" / \"Chapter4.txt\"\n",
        "\n"
      ]
    },
    {
      "cell_type": "code",
      "source": [
        "df_tweets = pd.read_csv(csv_file , delimiter = \";\")\n",
        "file = open(txt_file, mode=\"r\" , encoding= \"utf8\")\n",
        "ch4_raw = file.read()\n",
        "file.close() "
      ],
      "metadata": {
        "id": "DTRkz-aAU5Xn"
      },
      "execution_count": null,
      "outputs": []
    },
    {
      "cell_type": "code",
      "source": [
        "df_tweets.head"
      ],
      "metadata": {
        "colab": {
          "base_uri": "https://localhost:8080/"
        },
        "id": "v-bhqH_rUp9J",
        "outputId": "29600bca-e7d3-4edd-9f6b-f11fd6ec54dc"
      },
      "execution_count": null,
      "outputs": [
        {
          "output_type": "execute_result",
          "data": {
            "text/plain": [
              "<bound method NDFrame.head of               id  polarity                                              tweet\n",
              "0     1467933112         0  the angel is going to miss the athlete this we...\n",
              "1     2323395086         0  It looks as though Shaq is getting traded to C...\n",
              "2     1467968979         0     @clarianne APRIL 9TH ISN'T COMING SOON ENOUGH \n",
              "3     1990283756         0  drinking a McDonalds coffee and not understand...\n",
              "4     1988884918         0  So dissapointed Taylor Swift doesnt have a Twi...\n",
              "...          ...       ...                                                ...\n",
              "2029  1468049681         0  A king sized bed is nice but sad and lonely wi...\n",
              "2030  2195475499         0  @breannalovesjb hurry up home!!!!! im dying wi...\n",
              "2031  1996172176         0  @jordanhowell lol only a PSP, had a game boy b...\n",
              "2032  2016105580         4  Good morning everyone!  It is such a beautiful...\n",
              "2033  2186977170         4  hey guess was @magicmanil the Lakers won and K...\n",
              "\n",
              "[2034 rows x 3 columns]>"
            ]
          },
          "metadata": {},
          "execution_count": 6
        }
      ]
    },
    {
      "cell_type": "code",
      "source": [
        "df_tweets.shape"
      ],
      "metadata": {
        "colab": {
          "base_uri": "https://localhost:8080/"
        },
        "id": "uXZQkQllVail",
        "outputId": "13fac9eb-bf86-46fd-cbc0-f1d571f98706"
      },
      "execution_count": null,
      "outputs": [
        {
          "output_type": "execute_result",
          "data": {
            "text/plain": [
              "(2034, 3)"
            ]
          },
          "metadata": {},
          "execution_count": 7
        }
      ]
    },
    {
      "cell_type": "code",
      "source": [
        "df_tweets = df_tweets.iloc[1750 :]"
      ],
      "metadata": {
        "id": "Fr7RO_feVdnA"
      },
      "execution_count": null,
      "outputs": []
    },
    {
      "cell_type": "code",
      "source": [
        "df_tweets.shape"
      ],
      "metadata": {
        "colab": {
          "base_uri": "https://localhost:8080/"
        },
        "id": "lXkoBR-nVlKq",
        "outputId": "8da3ef65-1aaa-4f32-e8bc-953d144abd48"
      },
      "execution_count": null,
      "outputs": [
        {
          "output_type": "execute_result",
          "data": {
            "text/plain": [
              "(284, 3)"
            ]
          },
          "metadata": {},
          "execution_count": 9
        }
      ]
    },
    {
      "cell_type": "code",
      "source": [
        "#Adding the 284 tweets into a list \n",
        "corpus_split = list(df_tweets['tweet'])"
      ],
      "metadata": {
        "id": "2VMXJJWCWHPD"
      },
      "execution_count": null,
      "outputs": []
    },
    {
      "cell_type": "code",
      "source": [
        "#Adding function which concatenates all the data into a single corpus.\n",
        "\n",
        "def concatenate_list_data(list):\n",
        "  result = ''\n",
        "  for element in list:\n",
        "    result += str(element)\n",
        "  return result\n"
      ],
      "metadata": {
        "id": "WYt0R4RUVnUo"
      },
      "execution_count": null,
      "outputs": []
    },
    {
      "cell_type": "code",
      "source": [
        "corpus_twitter = concatenate_list_data(corpus_split)\n",
        "corpus_twitter[:10000]\n"
      ],
      "metadata": {
        "colab": {
          "base_uri": "https://localhost:8080/",
          "height": 140
        },
        "id": "vHXCLAuJV6en",
        "outputId": "d1011ba2-9ea9-43a0-d171-81e48ce1d2df"
      },
      "execution_count": null,
      "outputs": [
        {
          "output_type": "execute_result",
          "data": {
            "text/plain": [
              "\"I wish i was going to a Taylor Swift concert this summer...Sigh.. @taylorswift13 please come back to australia taylor!!! i missed going to sydney concert as i was sick with bronchitis I really need to stop checking my Facebook every 3 seconds hoping there's a message from Kyle Up for DMB, dr., then slept all day. Have a fever, no big deal, but Dad couldn't come down tonight.  Here's hoping for next weekend!@Kianasaurus - Bear just crunched my leg @sanasaleem should have turned me into muffin No C&amp;O youtube video.    At least not today.@rjman23 waiting for the iPod touch 3.0 jailbreak for pc to come out....itouch4life said it's not gonna be out today @TikkaMadsen @gogomago what are you two up to?  Ah shit, Miguel's gone?   I wonder if he blames Obama for Twitter, LOL...Well there goes my hope of seeing a lebron-kobe faceoff in the finals... Good riddance &amp; good nite It's not fair no one I like tours England Doing homework  cannot be bothered. Putting my PSP on ebay as i don't need and i need some money.@TKayla Beware.  Atlantic City casinos are not nearly as generous as those in Vegas.  Even the Enchanted Unicorn ate all my monies Poor cameron (the hills) Its over 4 the cavs!!! My last hope down the drain @starbucksqueen I'm sorry @leilaanasazi: I'm sure lots of that studio equipment was collected analog stuff that can't be bought anymore.    seriously, condolences.sisters left to england  so I'm taking her room, haha. Major cleaning to be done. Especially the bathroom.@ImCirocObama on W. Northrup....but its pretty much all gone  lolGod I'm still sad !  I wanted to go to the Jonas Brothers show in London ! I'd kill to see the Jonas Brothers and McFly playing togetherWhy does it ALWAYS rain in England even when its supposed to be Summer? @spikezezel me dislikes, idc abt 'sweet home alabama' being ripped off, but the 'werewolves of london' ruining makes me sad stupid movies we watched... mirrors ugggggh... stooopeeed!!! rip off! @slewlakers that's was I was thinking  shit hope he does!watching the cavs get their butts kicked by orlando i thought paulo was tomorrow  BUT i did have a grand day in ayr. now i have 3rd degree burns and most likely skin cancer.@RealKidPoker You're in Wolverine?! Now I know I'm never gonna receive a Twitter reply or get to meet u during my Vegas trip this year. About to lose a respected friend to cancer laid around too much today... now my head hurts @youngobama ok baby! damn son just ate the last piece  sorry @iggigg too busy to see me in London this evening. What is a boy to do?Splitting headache. Seriously. It feels like the left side of my head is going to fall off. (At this point, I kind-of wish it would.)   @modernmod yeah, last year we had to put Lucky (a rescue) to sleep due to cancer as well.  Very sorry to hear about Benny @AdamSchwabe  OMG. I hate missing dr. Oz on Oprah. Very upsetting day today...... Found out my Boxer has cancer    I wish dogs could live as long as humansxboxmafiya its cool, I let my hopes get 2 high thinkin he was gunna make it to my graduation  so im kinda bummed.OMG!! I am SOOO sleepy driving 2 my clinical externship site  StarBucks...here she comes!!@cocomix04 ill tell ya the story later  not a good day and ill be workin for like three more hours...just got the red ring of death on xbox360... second time it's happened well there goes playing ghostbusters tried to upload 130 pics thru iPhone flickit app. Epic fail... i got a realy bad headache I need tickets to see Taylor Swift! If only I could live closer to a BIG city! I would have so much more of an opportunity. College=poor back in England missin my Vegas friends Sad about Kutner being killed off my fav show House! ...no more Lebron I want mcdonalds but the stupid lady on the line said their stupid people are busy @mmitchelldaviss My Xbox Live isn't working either @TVreeland Aww Denver Nuggets.. you tried  Better luck next time. Darn Lakers.@ThaStevieG but what I really want is my old bass back Think I've got hayfever Missing My BFF  watching home and away it reminds me of her and me  we &lt;3 It. shout out to u courtsGood afternoon Twerts! I'm satying at home. Thanks to the fever and........the rashes. And then an overlay of a pic of her face bleeding in the style of those Obama hope posters. @stereoqueenbee ugggh, I feel you. I'm getting sick now too, burning throat, feverish  BOOOOOi think im slowwly gettin addicted to facebook  im such a book face !  lol wtf  much ?so disappointed in the game ~ I thought this was Lebron's year!!!    the playoffs won't be the same for me!@ashleyarrison, Us sydney siders are bummed with no show!!!  so sad i could not make melbourne,,,,When ever I wear a headband I end up with a headache @karriedaway not good  cavs lost. ughhh.@oanhLove I hate when that happens... @Danasaur4 no :s well for dani's house yeah. but for my new house no @kiki_huggles i wana go back to london tooooooooo the fucking mcdonalds lady made my drink wrong. ugh now to suffer without coffee. waaa disconnected ako sa gmail. dad's chatting with me pa naman. nasa canada kasi siya ngayon.  http://plurk.com/p/xbwaf@Vicstar   Game's over.. Screw the Lakers@lewisusher na  not till we drive Sydney to Bris Vegas the week after  gay work!Hmm im usually dead right about night...ugh skool monday...looong spring/easter break ugh no more oprah ellen or kathie lee and hoda.  Youtube is being as sporadic as twitter right about now. Xbox live is down Sleep time.  Tomorrow is gonna suck GAH!  I hate it when my children get a fever in the summer   stupid bugs!  STUPID WEATHER!!!Just lost $160 sad that the 'feet' of my macbook just fell off : sad that the 'feet' of my macbook just fell off London had to get five shots today I felt terrible were both miserable him from the shots me from my root canal kinda bummed the RedWings Pre-game show is on and i cant watch Taylor Swift's Dateline show. Tomorrow is celebrity day. I was going to be taylor swift. A dress and cowboy boots. But i have a field trip is home from Sydney but didn't bring back any doughnuts just got home from watching Michigan State get tromped!   wondering where iPod cable has vanished to...Wanted to add music but stymied. Bother. It has a safe place, &amp; is ALWAYS there except 2day The McDonalds drivethrough kid REALLY wants to be hardcore. How unfortunate. I forgot to mention that last night, I dreamt Oprah sent a photographer to kill Toiletface. And succeeded. I cried so hard in the dream. Why is my PSP always dead when I want to use it? @hillaryrachel oh i know how you feel. i took a leap of faith and asked Taylor Swift to be my BFFL ... she didnt reply @daveknox awesome-  corporate housing took away my modem and gave me an air card for the summer..  = no xbox live. @lakersnation Is this a joke?  I can't find them XBox Live still down Late night snack, glass of OJ b/c I'm &quot;down with the sickness&quot;, then back to sleep...ugh I hate getting sick... yo f*ck this game! CAVS done pissed me off for the night. finna write some music and go get intoxicated at the club @Nusretnina I know how you feel, it had the same effect on me!! Its the 3rd anniversary of my mums death to cancer tomorrow   xxBack to single mom...  Guess that means cereal, McDonalds and cookies for dinner again!facebook is being a 'tard -.-'' I can't get a hold of my cousin and don't want to go out alone, 'cause that's no fun watching old videos of dance team and such... makes me miss it  Sadly though, I've never gotten to experience the post coitus cigarette before, and now I never will. Mcdonaldss! And i wish i were tough enough to do MMA So hungry   I wanna eat mcdonalds @naughtyhaughty I had on my page for sooooo long!!! Until it got deleted  Sad day in history@rumblepurr lol.. wish they understood daylight savings has ended though and breakfast is an hour later  They keep waking the kids up toostupid arranged marriages... i'll convert so you can marry me...love you! #xbox live is down  o well i guess i will jus have to play my ps3 then#nasa #shuttle endeavour launch scrubbed.  engineers unable to fix hydrogen leak. What?! (via @ryantxr) crud i don't like lukewarm showers spring break in plain city... it's snowing @kbonded I kno right! I really want'd LeBron &amp; Mo 2 play the Lakers @sjtryon hey. Quick Q.  What was the iphone general gps/map app you recommended?   Totally eludes my feeble brain at the moment feeling lost, naked and confused (JK, sort of).....no iphone for me. @the8333696 no chance of that here! YouTube and ALL networking sites are blocked.. Can't even get onto flickr at work anymore @DannyDutch Slow.  Submitted many resumes but not alot of work in my field right now.  McDonalds?  Maybe relay for life cancer walk today, what a great cause. well, of course it was followed by some small-town drama- not cool @MissSydneyJ ahhhghhh..  they dont dance no mo all they do is dis.R.I.P to lebron/kobe puppet commercials... My xbox just died @baneen it was a &quot;wish I had someone to bring me Starbucks&quot;  however, I do have something for you here if that makes you better!@Artistbabee but tht's annoying &amp;definitely not bitchy enough  he def broke like everything in me. he prolly doesn't even kno oct. 5!@joannasaw I am too  Think it might be something in the air today. I want to go shopping. Specifically, to yours! Coveting pretty things.@cameronparker  what about me? Sorry drunk in vegas is bad!!Damn I left town and forgot the charger for my iphone. Major the sky is green, raining hard, and lightening flashing every 3 seconds.  I wanna be back in Seattle where rain is not life threatening @JTalk100 Hope your headache stop soon.I'm about 2 die....  I miss MaryJane so much. That was my boo! Loltrying to get my iPod to work is stucked in Paris and can't even travel into France (for work) WTF Not Kutner!  Oh I'm so pissed @ House.  I mean really WTF   facebook is BOREEEEEEEEEEEEEEEEEEENG @tommcfly ooo starbucks. damn for me not having radio 1 on though I \""
            ],
            "application/vnd.google.colaboratory.intrinsic+json": {
              "type": "string"
            }
          },
          "metadata": {},
          "execution_count": 26
        }
      ]
    },
    {
      "cell_type": "code",
      "source": [],
      "metadata": {
        "id": "gdGuVbt3bKoS"
      },
      "execution_count": null,
      "outputs": []
    },
    {
      "cell_type": "code",
      "source": [
        "#Appending all the data in the list to a string\n",
        "\n",
        "string_ch4 = ' '\n",
        "string_twitter = ' '\n",
        "string_ch4 = string_ch4.join(stripped_ch4)\n",
        "string_twitter = string_twitter.join(stripped_twitter)"
      ],
      "metadata": {
        "colab": {
          "base_uri": "https://localhost:8080/",
          "height": 217
        },
        "id": "X92fwNn6XVC9",
        "outputId": "e99e4b27-5ee4-45f2-9a77-2e87df4ca84c"
      },
      "execution_count": null,
      "outputs": [
        {
          "output_type": "error",
          "ename": "TypeError",
          "evalue": "ignored",
          "traceback": [
            "\u001b[0;31m---------------------------------------------------------------------------\u001b[0m",
            "\u001b[0;31mTypeError\u001b[0m                                 Traceback (most recent call last)",
            "\u001b[0;32m<ipython-input-32-f56dfea75815>\u001b[0m in \u001b[0;36m<cell line: 5>\u001b[0;34m()\u001b[0m\n\u001b[1;32m      3\u001b[0m \u001b[0mstring_ch4\u001b[0m \u001b[0;34m=\u001b[0m \u001b[0;34m' '\u001b[0m\u001b[0;34m\u001b[0m\u001b[0;34m\u001b[0m\u001b[0m\n\u001b[1;32m      4\u001b[0m \u001b[0mstring_twitter\u001b[0m \u001b[0;34m=\u001b[0m \u001b[0;34m' '\u001b[0m\u001b[0;34m\u001b[0m\u001b[0;34m\u001b[0m\u001b[0m\n\u001b[0;32m----> 5\u001b[0;31m \u001b[0mstring_ch4\u001b[0m \u001b[0;34m=\u001b[0m \u001b[0mstring_ch4\u001b[0m\u001b[0;34m.\u001b[0m\u001b[0mjoin\u001b[0m\u001b[0;34m(\u001b[0m\u001b[0mstripped_ch4\u001b[0m\u001b[0;34m)\u001b[0m\u001b[0;34m\u001b[0m\u001b[0;34m\u001b[0m\u001b[0m\n\u001b[0m\u001b[1;32m      6\u001b[0m \u001b[0mstring_twitter\u001b[0m \u001b[0;34m=\u001b[0m \u001b[0mstring_twitter\u001b[0m\u001b[0;34m.\u001b[0m\u001b[0mjoin\u001b[0m\u001b[0;34m(\u001b[0m\u001b[0mstripped_twitter\u001b[0m\u001b[0;34m)\u001b[0m\u001b[0;34m\u001b[0m\u001b[0;34m\u001b[0m\u001b[0m\n",
            "\u001b[0;31mTypeError\u001b[0m: sequence item 0: expected str instance, list found"
          ]
        }
      ]
    },
    {
      "cell_type": "code",
      "source": [
        "#importing nessary NLTK pacakages\n",
        "\n",
        "import nltk\n",
        "from nltk.corpus import stopwords\n",
        "from nltk.tokenize import word_tokenize\n",
        "nltk.download('stopwords')\n",
        "nltk.download('punkt')\n",
        "\n",
        "\n",
        "#setting stopswords to english\n",
        "\n",
        "stop_words = set(stopwords.words('english'))\n",
        "\n",
        "#Tokenizing the string\n",
        "word_tokens_ch4 = word_tokenize(string_ch4)\n",
        "word_tokens_twitter = word_tokenize(string_twitter)"
      ],
      "metadata": {
        "colab": {
          "base_uri": "https://localhost:8080/"
        },
        "id": "eMbK1aDVb9sA",
        "outputId": "bb2abb99-2aff-46e1-81b1-e76847a211ee"
      },
      "execution_count": null,
      "outputs": [
        {
          "output_type": "stream",
          "name": "stderr",
          "text": [
            "[nltk_data] Downloading package stopwords to /root/nltk_data...\n",
            "[nltk_data]   Unzipping corpora/stopwords.zip.\n",
            "[nltk_data] Downloading package punkt to /root/nltk_data...\n",
            "[nltk_data]   Unzipping tokenizers/punkt.zip.\n"
          ]
        }
      ]
    },
    {
      "cell_type": "code",
      "source": [
        "#Removing all the stop words\n",
        "\n",
        "filtered_corpus_ch4 = [w for w in word_tokens_ch4 if not w in stop_words]\n",
        "filtered_corpus_twitter = [w for w in word_tokens_twitter if not w in stop_words]"
      ],
      "metadata": {
        "id": "N6gTWvtCcoFJ"
      },
      "execution_count": null,
      "outputs": []
    },
    {
      "cell_type": "code",
      "source": [
        "#Calcualting the frequency of each word\n",
        "\n",
        "wordfreq_ch4 = [filtered_corpus_ch4.count(p) for p in filtered_corpus_ch4]\n",
        "result_ch4 = dict(zip(filtered_corpus_ch4, wordfreq_ch4))\n",
        "wordfreq_twitter = [filtered_corpus_twitter.count(p) for p in filtered_corpus_twitter]\n",
        "result_twitter = dict(zip(filtered_corpus_twitter, wordfreq_twitter))"
      ],
      "metadata": {
        "id": "ReHDgEVCc8kb"
      },
      "execution_count": null,
      "outputs": []
    },
    {
      "cell_type": "code",
      "source": [
        "#Finally lets plot the wordcloud\n",
        "\n",
        "!pip install WordCloud"
      ],
      "metadata": {
        "colab": {
          "base_uri": "https://localhost:8080/"
        },
        "id": "1F693YRHdg0U",
        "outputId": "69d96372-11cd-4250-bc1c-f9980b7be68b"
      },
      "execution_count": null,
      "outputs": [
        {
          "output_type": "stream",
          "name": "stdout",
          "text": [
            "Looking in indexes: https://pypi.org/simple, https://us-python.pkg.dev/colab-wheels/public/simple/\n",
            "Requirement already satisfied: WordCloud in /usr/local/lib/python3.10/dist-packages (1.8.2.2)\n",
            "Requirement already satisfied: numpy>=1.6.1 in /usr/local/lib/python3.10/dist-packages (from WordCloud) (1.22.4)\n",
            "Requirement already satisfied: pillow in /usr/local/lib/python3.10/dist-packages (from WordCloud) (8.4.0)\n",
            "Requirement already satisfied: matplotlib in /usr/local/lib/python3.10/dist-packages (from WordCloud) (3.7.1)\n",
            "Requirement already satisfied: contourpy>=1.0.1 in /usr/local/lib/python3.10/dist-packages (from matplotlib->WordCloud) (1.0.7)\n",
            "Requirement already satisfied: cycler>=0.10 in /usr/local/lib/python3.10/dist-packages (from matplotlib->WordCloud) (0.11.0)\n",
            "Requirement already satisfied: fonttools>=4.22.0 in /usr/local/lib/python3.10/dist-packages (from matplotlib->WordCloud) (4.39.3)\n",
            "Requirement already satisfied: kiwisolver>=1.0.1 in /usr/local/lib/python3.10/dist-packages (from matplotlib->WordCloud) (1.4.4)\n",
            "Requirement already satisfied: packaging>=20.0 in /usr/local/lib/python3.10/dist-packages (from matplotlib->WordCloud) (23.1)\n",
            "Requirement already satisfied: pyparsing>=2.3.1 in /usr/local/lib/python3.10/dist-packages (from matplotlib->WordCloud) (3.0.9)\n",
            "Requirement already satisfied: python-dateutil>=2.7 in /usr/local/lib/python3.10/dist-packages (from matplotlib->WordCloud) (2.8.2)\n",
            "Requirement already satisfied: six>=1.5 in /usr/local/lib/python3.10/dist-packages (from python-dateutil>=2.7->matplotlib->WordCloud) (1.16.0)\n"
          ]
        }
      ]
    },
    {
      "cell_type": "code",
      "source": [
        "from wordcloud import WordCloud\n",
        "import matplotlib.pyplot as plt\n",
        "\n",
        "wordcloud = WordCloud(width = 1200 , height = 1200 , background_color = \"white\" , min_font_size = 10)/generate_from_frequencies(result_twitter)\n",
        "\n",
        "plt.figure(figsize = (8,8) , facecolor = None)\n",
        "plt.imshow(wordcloud)\n",
        "plt.axis(\"off\")\n",
        "plt.tight_layout()\n",
        "\n",
        "plt.show()"
      ],
      "metadata": {
        "colab": {
          "base_uri": "https://localhost:8080/",
          "height": 252
        },
        "id": "pI6TUtrTdpwZ",
        "outputId": "371de28b-c7a5-4de2-9481-004ce7c0495d"
      },
      "execution_count": null,
      "outputs": [
        {
          "output_type": "error",
          "ename": "NameError",
          "evalue": "ignored",
          "traceback": [
            "\u001b[0;31m---------------------------------------------------------------------------\u001b[0m",
            "\u001b[0;31mNameError\u001b[0m                                 Traceback (most recent call last)",
            "\u001b[0;32m<ipython-input-39-6f0aa579165b>\u001b[0m in \u001b[0;36m<cell line: 4>\u001b[0;34m()\u001b[0m\n\u001b[1;32m      2\u001b[0m \u001b[0;32mimport\u001b[0m \u001b[0mmatplotlib\u001b[0m\u001b[0;34m.\u001b[0m\u001b[0mpyplot\u001b[0m \u001b[0;32mas\u001b[0m \u001b[0mplt\u001b[0m\u001b[0;34m\u001b[0m\u001b[0;34m\u001b[0m\u001b[0m\n\u001b[1;32m      3\u001b[0m \u001b[0;34m\u001b[0m\u001b[0m\n\u001b[0;32m----> 4\u001b[0;31m \u001b[0mwordcloud\u001b[0m \u001b[0;34m=\u001b[0m \u001b[0mWordCloud\u001b[0m\u001b[0;34m(\u001b[0m\u001b[0mwidth\u001b[0m \u001b[0;34m=\u001b[0m \u001b[0;36m1200\u001b[0m \u001b[0;34m,\u001b[0m \u001b[0mheight\u001b[0m \u001b[0;34m=\u001b[0m \u001b[0;36m1200\u001b[0m \u001b[0;34m,\u001b[0m \u001b[0mbackground_color\u001b[0m \u001b[0;34m=\u001b[0m \u001b[0;34m\"white\"\u001b[0m \u001b[0;34m,\u001b[0m \u001b[0mmin_font_size\u001b[0m \u001b[0;34m=\u001b[0m \u001b[0;36m10\u001b[0m\u001b[0;34m)\u001b[0m\u001b[0;34m/\u001b[0m\u001b[0mgenerate_from_frequencies\u001b[0m\u001b[0;34m(\u001b[0m\u001b[0mresult_twitter\u001b[0m\u001b[0;34m)\u001b[0m\u001b[0;34m\u001b[0m\u001b[0;34m\u001b[0m\u001b[0m\n\u001b[0m\u001b[1;32m      5\u001b[0m \u001b[0;34m\u001b[0m\u001b[0m\n\u001b[1;32m      6\u001b[0m \u001b[0mplt\u001b[0m\u001b[0;34m.\u001b[0m\u001b[0mfigure\u001b[0m\u001b[0;34m(\u001b[0m\u001b[0mfigsize\u001b[0m \u001b[0;34m=\u001b[0m \u001b[0;34m(\u001b[0m\u001b[0;36m8\u001b[0m\u001b[0;34m,\u001b[0m\u001b[0;36m8\u001b[0m\u001b[0;34m)\u001b[0m \u001b[0;34m,\u001b[0m \u001b[0mfacecolor\u001b[0m \u001b[0;34m=\u001b[0m \u001b[0;32mNone\u001b[0m\u001b[0;34m)\u001b[0m\u001b[0;34m\u001b[0m\u001b[0;34m\u001b[0m\u001b[0m\n",
            "\u001b[0;31mNameError\u001b[0m: name 'generate_from_frequencies' is not defined"
          ]
        }
      ]
    },
    {
      "cell_type": "code",
      "source": [
        "from wordcloud import WordCloud\n",
        "import matplotlib.pyplot as plt\n",
        "\n",
        "wordcloud = WordCloud(width =1200 , height =1200 , min_font_size = 10).generate_form_frequencies(result_ch4)\n",
        "\n",
        "plt.figure(figsize = (10,10), facecolor = None)\n",
        "plt.imshow(wordclod, interpolation = \"bilinear\")\n",
        "plt.axis(\"off\")\n",
        "plt.tight_layout()\n",
        "\n",
        "plt.show()"
      ],
      "metadata": {
        "colab": {
          "base_uri": "https://localhost:8080/",
          "height": 235
        },
        "id": "gbe5XvucetZr",
        "outputId": "3b47dc5d-5ce7-40db-8e31-44537ee078ab"
      },
      "execution_count": null,
      "outputs": [
        {
          "output_type": "error",
          "ename": "AttributeError",
          "evalue": "ignored",
          "traceback": [
            "\u001b[0;31m---------------------------------------------------------------------------\u001b[0m",
            "\u001b[0;31mAttributeError\u001b[0m                            Traceback (most recent call last)",
            "\u001b[0;32m<ipython-input-40-59775a3f3fee>\u001b[0m in \u001b[0;36m<cell line: 4>\u001b[0;34m()\u001b[0m\n\u001b[1;32m      2\u001b[0m \u001b[0;32mimport\u001b[0m \u001b[0mmatplotlib\u001b[0m\u001b[0;34m.\u001b[0m\u001b[0mpyplot\u001b[0m \u001b[0;32mas\u001b[0m \u001b[0mplt\u001b[0m\u001b[0;34m\u001b[0m\u001b[0;34m\u001b[0m\u001b[0m\n\u001b[1;32m      3\u001b[0m \u001b[0;34m\u001b[0m\u001b[0m\n\u001b[0;32m----> 4\u001b[0;31m \u001b[0mwordcloud\u001b[0m \u001b[0;34m=\u001b[0m \u001b[0mWordCloud\u001b[0m\u001b[0;34m(\u001b[0m\u001b[0mwidth\u001b[0m \u001b[0;34m=\u001b[0m\u001b[0;36m1200\u001b[0m \u001b[0;34m,\u001b[0m \u001b[0mheight\u001b[0m \u001b[0;34m=\u001b[0m\u001b[0;36m1200\u001b[0m \u001b[0;34m,\u001b[0m \u001b[0mmin_font_size\u001b[0m \u001b[0;34m=\u001b[0m \u001b[0;36m10\u001b[0m\u001b[0;34m)\u001b[0m\u001b[0;34m.\u001b[0m\u001b[0mgenerate_form_frequencies\u001b[0m\u001b[0;34m(\u001b[0m\u001b[0mresult_ch4\u001b[0m\u001b[0;34m)\u001b[0m\u001b[0;34m\u001b[0m\u001b[0;34m\u001b[0m\u001b[0m\n\u001b[0m\u001b[1;32m      5\u001b[0m \u001b[0;34m\u001b[0m\u001b[0m\n\u001b[1;32m      6\u001b[0m \u001b[0mplt\u001b[0m\u001b[0;34m.\u001b[0m\u001b[0mfigure\u001b[0m\u001b[0;34m(\u001b[0m\u001b[0mfigsize\u001b[0m \u001b[0;34m=\u001b[0m \u001b[0;34m(\u001b[0m\u001b[0;36m10\u001b[0m\u001b[0;34m,\u001b[0m\u001b[0;36m10\u001b[0m\u001b[0;34m)\u001b[0m\u001b[0;34m,\u001b[0m \u001b[0mfacecolor\u001b[0m \u001b[0;34m=\u001b[0m \u001b[0;32mNone\u001b[0m\u001b[0;34m)\u001b[0m\u001b[0;34m\u001b[0m\u001b[0;34m\u001b[0m\u001b[0m\n",
            "\u001b[0;31mAttributeError\u001b[0m: 'WordCloud' object has no attribute 'generate_form_frequencies'"
          ]
        }
      ]
    },
    {
      "cell_type": "code",
      "source": [],
      "metadata": {
        "id": "9cEDYl9_fkIi"
      },
      "execution_count": null,
      "outputs": []
    }
  ]
}