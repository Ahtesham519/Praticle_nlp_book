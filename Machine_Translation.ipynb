{
  "nbformat": 4,
  "nbformat_minor": 0,
  "metadata": {
    "colab": {
      "provenance": [],
      "authorship_tag": "ABX9TyNrJOwfKv5I/cpeBfcGputV",
      "include_colab_link": true
    },
    "kernelspec": {
      "name": "python3",
      "display_name": "Python 3"
    },
    "language_info": {
      "name": "python"
    }
  },
  "cells": [
    {
      "cell_type": "markdown",
      "metadata": {
        "id": "view-in-github",
        "colab_type": "text"
      },
      "source": [
        "<a href=\"https://colab.research.google.com/github/Ahtesham519/Praticle_nlp_book/blob/main/Machine_Translation.ipynb\" target=\"_parent\"><img src=\"https://colab.research.google.com/assets/colab-badge.svg\" alt=\"Open In Colab\"/></a>"
      ]
    },
    {
      "cell_type": "code",
      "execution_count": 1,
      "metadata": {
        "colab": {
          "base_uri": "https://localhost:8080/"
        },
        "id": "cjGoMyWNLGpX",
        "outputId": "a85b0999-383d-45b7-a18b-f67d0e50b9cb"
      },
      "outputs": [
        {
          "output_type": "stream",
          "name": "stdout",
          "text": [
            "Looking in indexes: https://pypi.org/simple, https://us-python.pkg.dev/colab-wheels/public/simple/\n",
            "Requirement already satisfied: requests in /usr/local/lib/python3.10/dist-packages (2.27.1)\n",
            "Requirement already satisfied: urllib3<1.27,>=1.21.1 in /usr/local/lib/python3.10/dist-packages (from requests) (1.26.15)\n",
            "Requirement already satisfied: certifi>=2017.4.17 in /usr/local/lib/python3.10/dist-packages (from requests) (2022.12.7)\n",
            "Requirement already satisfied: charset-normalizer~=2.0.0 in /usr/local/lib/python3.10/dist-packages (from requests) (2.0.12)\n",
            "Requirement already satisfied: idna<4,>=2.5 in /usr/local/lib/python3.10/dist-packages (from requests) (3.4)\n"
          ]
        }
      ],
      "source": [
        "!pip install requests"
      ]
    },
    {
      "cell_type": "code",
      "source": [
        "import os , requests, uuid , json"
      ],
      "metadata": {
        "id": "pWy7-bZ1LQ7s"
      },
      "execution_count": 2,
      "outputs": []
    },
    {
      "cell_type": "code",
      "source": [
        "subcription_key \"XXXX\"\n",
        "enpoint = \"https://api-nam.cognitive.microsofttranslator.com\"\n",
        "path= '/translate?api-version= 3.0'\n",
        "params = '&to = de'   #from english to germen\n",
        "constructed_url = endpoint +path +params"
      ],
      "metadata": {
        "colab": {
          "base_uri": "https://localhost:8080/",
          "height": 130
        },
        "id": "poi22PX7LUQ2",
        "outputId": "fc099693-7c02-4678-a7b3-5c049b40ed55"
      },
      "execution_count": 3,
      "outputs": [
        {
          "output_type": "error",
          "ename": "SyntaxError",
          "evalue": "ignored",
          "traceback": [
            "\u001b[0;36m  File \u001b[0;32m\"<ipython-input-3-b5bc326441ec>\"\u001b[0;36m, line \u001b[0;32m1\u001b[0m\n\u001b[0;31m    subcription_key \"XXXX\"\u001b[0m\n\u001b[0m                    ^\u001b[0m\n\u001b[0;31mSyntaxError\u001b[0m\u001b[0;31m:\u001b[0m invalid syntax\n"
          ]
        }
      ]
    },
    {
      "cell_type": "code",
      "source": [
        "headers = {\n",
        "    'Ocp - Apim-Subscription-Key' :subscription_key,\n",
        "    'Content-type': 'application.json',\n",
        "    'X-ClientTracedId' : str(uuid.uuid4())\n",
        "}\n",
        "\n",
        "body = [{'text' : 'How good is Machine Learning Translation?'}]\n",
        "request = requests.post(constructed_url , headers= headers , json=body)\n",
        "response = request.json()\n",
        "\n",
        "print(json.dumps(response , sort_keys =True , indent = 4 , seperators= (',' ,': ')))\n",
        "\n"
      ],
      "metadata": {
        "id": "POit3KdLL0OK"
      },
      "execution_count": null,
      "outputs": []
    }
  ]
}