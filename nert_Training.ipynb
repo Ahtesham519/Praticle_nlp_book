{
  "nbformat": 4,
  "nbformat_minor": 0,
  "metadata": {
    "colab": {
      "provenance": [],
      "authorship_tag": "ABX9TyPnrqQgStZEdE+qSRDHw1wy",
      "include_colab_link": true
    },
    "kernelspec": {
      "name": "python3",
      "display_name": "Python 3"
    },
    "language_info": {
      "name": "python"
    }
  },
  "cells": [
    {
      "cell_type": "markdown",
      "metadata": {
        "id": "view-in-github",
        "colab_type": "text"
      },
      "source": [
        "<a href=\"https://colab.research.google.com/github/Ahtesham519/Praticle_nlp_book/blob/main/nert_Training.ipynb\" target=\"_parent\"><img src=\"https://colab.research.google.com/assets/colab-badge.svg\" alt=\"Open In Colab\"/></a>"
      ]
    },
    {
      "cell_type": "code",
      "source": [
        "!pip install sklearn-crfsuite\n"
      ],
      "metadata": {
        "colab": {
          "base_uri": "https://localhost:8080/"
        },
        "id": "kbXpknRgvPDM",
        "outputId": "25dbec65-785b-4adc-cca9-6fca202473c8"
      },
      "execution_count": 2,
      "outputs": [
        {
          "output_type": "stream",
          "name": "stdout",
          "text": [
            "Looking in indexes: https://pypi.org/simple, https://us-python.pkg.dev/colab-wheels/public/simple/\n",
            "Collecting sklearn-crfsuite\n",
            "  Downloading sklearn_crfsuite-0.3.6-py2.py3-none-any.whl (12 kB)\n",
            "Collecting python-crfsuite>=0.8.3 (from sklearn-crfsuite)\n",
            "  Downloading python_crfsuite-0.9.9-cp310-cp310-manylinux_2_17_x86_64.manylinux2014_x86_64.whl (993 kB)\n",
            "\u001b[2K     \u001b[90m━━━━━━━━━━━━━━━━━━━━━━━━━━━━━━━━━━━━━━\u001b[0m \u001b[32m993.5/993.5 kB\u001b[0m \u001b[31m24.8 MB/s\u001b[0m eta \u001b[36m0:00:00\u001b[0m\n",
            "\u001b[?25hRequirement already satisfied: six in /usr/local/lib/python3.10/dist-packages (from sklearn-crfsuite) (1.16.0)\n",
            "Requirement already satisfied: tabulate in /usr/local/lib/python3.10/dist-packages (from sklearn-crfsuite) (0.8.10)\n",
            "Requirement already satisfied: tqdm>=2.0 in /usr/local/lib/python3.10/dist-packages (from sklearn-crfsuite) (4.65.0)\n",
            "Installing collected packages: python-crfsuite, sklearn-crfsuite\n",
            "Successfully installed python-crfsuite-0.9.9 sklearn-crfsuite-0.3.6\n"
          ]
        }
      ]
    },
    {
      "cell_type": "code",
      "execution_count": 3,
      "metadata": {
        "id": "sgqZ_YTmuZOB"
      },
      "outputs": [],
      "source": [
        "from nltk.tag import pos_tag\n",
        "from sklearn_crfsuite import CRF , metrics\n",
        "from sklearn.metrics import make_scorer , confusion_matrix\n",
        "from pprint import pprint\n",
        "from sklearn.metrics import f1_score , classification_report\n",
        "from sklearn.pipeline import Pipeline\n",
        "import string\n",
        "import warnings\n",
        "warnings.filterwarnings('ignore')\n"
      ]
    },
    {
      "cell_type": "markdown",
      "source": [
        "Loading the dataset"
      ],
      "metadata": {
        "id": "pgOUPXg5vA5p"
      }
    },
    {
      "cell_type": "code",
      "source": [
        "def load_data_conll(file_path):\n",
        "  myoutput , words, tags = [] , [] , []\n",
        "  fh = open(file_path)\n",
        "  for line in fh:\n",
        "    line= line.strip()\n",
        "    if \"\\t\" not in line:\n",
        "      #Sentences ended.\n",
        "      myoutput.append([words, tags])\n",
        "      words , tags = [] , []\n",
        "    else:\n",
        "      word , tag = line.split(\"\\t\")\n",
        "      words.append(word)\n",
        "      tags.append(tag)\n",
        "  fh.close()\n",
        "  return myoutput"
      ],
      "metadata": {
        "id": "8c5me5l9u_2q"
      },
      "execution_count": 4,
      "outputs": []
    },
    {
      "cell_type": "code",
      "source": [
        "def sent2feats(sentence):\n",
        "  feats = []\n",
        "  sen_tags = pos_tag(sentence)  #This format is specific to this POS tagger!\n",
        "  for i in range(0 ,len(sentence)):\n",
        "    word = sentence[i]\n",
        "    wordfeats = {}\n",
        "    #word features: word , prev 2 words , next 2 words in the sentence.\n",
        "    wordfeats['word'] = word\n",
        "    if i == 0:\n",
        "      wordfeats[\"prevWord\"] = wordfeats [\"prevSecondWord\"] = \"<S>\" \n",
        "    elif i ==1:\n",
        "      wordfeats[\"prevWord\"] = sentence[i-1]\n",
        "      wordfeats[\"prevSecondWord\"] = sentence[i-2]\n",
        "    #next two words as features \n",
        "    if i == len(sentence) -2:\n",
        "      wordfeats[\"nextWord\"]  = sentence [ i+1]\n",
        "      wordfeats[\"nextNextWord\"] = \"</S>\"\n",
        "    elif i == len(sentence) -1:\n",
        "      wordfeats[\"nextWords\"] = \"</S>\"\n",
        "      wordfeats[\"nextNextWord\"] = \"</S>\"\n",
        "    else:\n",
        "      wordfeats[\"nextWord\"] = sentence[i+1]\n",
        "      wordfeats[\"nextNextWord\"] = sentence[i+2]\n",
        "\n",
        "    \n",
        "    #POS tag features: current tag , previous and next 2 tags\n",
        "    wordfeats['tag']  = sen_tags[i][1]\n",
        "    if i == 0:\n",
        "      wordfeats[\"prevTag\"] =wordfeats[\"prevSecondWord\"] = \"<S>\"\n",
        "    elif i == 1:\n",
        "      wordfeats[\"prevTag\"] = sen_tags[0][1]\n",
        "      wordfeats[\"prevSecondTag\"] = \"</S>\"\n",
        "    else:\n",
        "      wordfeats[\"prevTag\"]  = sen_tags[i -1][1]\n",
        "      wordfeats[\"prevSecondTag\"] = sen_tags[i - 2][1]\n",
        "\n",
        "    #Next twon words as features\n",
        "\n",
        "    if i == len(sentence) - 2:\n",
        "      wordfeats[\"nextTag\"] = sen_tags[i +1][1]\n",
        "      wordfeats[\"nextNextTag\"] = \"</S>\"\n",
        "    elif i ==len(sentence) -1:\n",
        "      wordfeats[\"nextTag\"] = \"</S>\"\n",
        "      wordfeats[\"nextNextTag\"] = \"</S>\"\n",
        "    else: \n",
        "      wordfeats[\"nextTag\"] = sen_tags[i +1][1]\n",
        "      wordfeats[\"nextNextWord\"] = sen_tags [i+ 2] [1]\n",
        "\n",
        "    #Taht is it : You can add whatever you watn!\n",
        "    feats.append(wordfeats)\n",
        "\n",
        "  return feats"
      ],
      "metadata": {
        "id": "lIZ99Ax0v7Lm"
      },
      "execution_count": 5,
      "outputs": []
    },
    {
      "cell_type": "markdown",
      "source": [
        "Extraction Features\n"
      ],
      "metadata": {
        "id": "OI81eQ16zbWz"
      }
    },
    {
      "cell_type": "code",
      "source": [
        "#Extract fatures from the conll data , afer loading it .\n",
        "\n",
        "def get_feats_conll(conll_data):\n",
        "  feats = []\n",
        "  labels = []\n",
        "  for sentence in conll_data:\n",
        "    feats.append(sent2feats(sentence[0]))\n",
        "    labels.append(sentence[1])\n",
        "  return feats , labels\n",
        "  "
      ],
      "metadata": {
        "id": "igwU-SNtzaDO"
      },
      "execution_count": 6,
      "outputs": []
    },
    {
      "cell_type": "markdown",
      "source": [
        "Training a Model"
      ],
      "metadata": {
        "id": "B1u68Qbdz1GA"
      }
    },
    {
      "cell_type": "code",
      "source": [
        "#Train a sequence Model \n",
        "def train_seq(X_train , Y_train , X_dev , Y_dev):\n",
        "  crf = CRF(algorithm = 'lbfgs' , c1 = 0.1 , c2 =10 , max_iterations = 50) #all_posible_states = True\n",
        "  crf.fit(X_train , Y_train)\n",
        "  labels = list(crf.classes_)\n",
        "  #testing:\n",
        "  y_pred = crf.predict(X_dev)\n",
        "  sorted_labels = sorted(labels, key = lambda name:(name[1:] , name[0]))\n",
        "  print(metrics.flat_f1_score(Y_dev , y_pred, average= 'weighted' , labels=labels))\n",
        "  print(metrics.flat_classification_report(Y_dev , y_pred , labels = sorted_labels , digits=3))\n",
        "\n",
        "  get_confusion_matrix(Y_dev , y_pred, labels = sorted_labels)\n",
        "  "
      ],
      "metadata": {
        "id": "MYJW4TDXz0Kf"
      },
      "execution_count": 7,
      "outputs": []
    },
    {
      "cell_type": "code",
      "source": [
        "def print_cm(cm, labels):\n",
        "  print(\"\\n\")\n",
        "  \"\"\" pretty print for confusion matrixes\"\"\"\n",
        "  columnwidth = max([len(x) for x in labels] + [5] )   #5 is value length\n",
        "  empty_cell = \" \" * columnwidth\n",
        "\n",
        "  #print header\n",
        "  print(\" \" +empty_cell , end = \" \")\n",
        "  for label in labels:\n",
        "    print(\"%{0}s\" .format(columnwidth) %label , end=\" \")\n",
        "  print()\n",
        "  #print rows\n",
        "  for i, label1 in enumerate(labels):\n",
        "    print(\"   %{0}s\".format(columnwidth) %label1 , end = \" \")\n",
        "    sum = 0\n",
        "    for j in range(len(labels)):\n",
        "      cell = \"%{0}.0f\".format(columnwidth) % cm[i,j]\n",
        "      sum = sum +int(cell)\n",
        "      print(cell , end =\"  \")\n",
        "    print(sum)  #Prints the total number of instances per cat at the end "
      ],
      "metadata": {
        "id": "8TnWxLo41Eso"
      },
      "execution_count": 9,
      "outputs": []
    },
    {
      "cell_type": "code",
      "source": [
        "#python crfsuite does not have a confusion matrix function\n",
        "#so writing it using sklearn's confusion matrix and print_cm from github\n",
        "\n",
        "def get_confusion_matrix(y_true , y_pred , labels):\n",
        "  trues, preds = [] , []\n",
        "  for yseq_true , yseq_pred in zip(y_true  , y_pred):\n",
        "    trues.extend(yseq_true)\n",
        "    preds.extend(yseq_pred)\n",
        "  print_cm(confusion_matrix(trues , preds, labels), labels) "
      ],
      "metadata": {
        "id": "BHniGSXP2pFB"
      },
      "execution_count": 10,
      "outputs": []
    },
    {
      "cell_type": "markdown",
      "source": [
        "Call out function which are inside the main method \n"
      ],
      "metadata": {
        "id": "d0_I6Q4q3ZOX"
      }
    },
    {
      "cell_type": "code",
      "source": [
        "def main():\n",
        "  try:\n",
        "    from google.colab import files\n",
        "    uploaded = files.upload()\n",
        "    train_path = 'train.txt'\n",
        "    test_path = 'test.txt'\n",
        "\n",
        "  except:\n",
        "    train_path = 'Data/conlldata/train.txt'\n",
        "    test_path = 'Data/conlldata/test.txt'\n",
        "  \n",
        "  conll_train = load_data_conll(train_path)\n",
        "  conll_dev = load_data_conll(test_path)\n",
        "\n",
        "\n",
        "  print(\"Training a Sequence classification model with CRF\")\n",
        "  feats, labels = get_feats_conll(conll_train)\n",
        "  devfeats , devlabels = get_feats_conll(conll_dev)\n",
        "  train_seq(feats , labels , devfeats , devlabels)\n",
        "  print(\"Done with sequence model\")\n",
        "\n",
        "if __name__ ==\"__main__\":\n",
        "  main()"
      ],
      "metadata": {
        "colab": {
          "base_uri": "https://localhost:8080/",
          "height": 90
        },
        "id": "OEyhyWCb3XMX",
        "outputId": "3f1d37f1-2cba-4b32-cc6f-34e48c070b35"
      },
      "execution_count": null,
      "outputs": [
        {
          "output_type": "display_data",
          "data": {
            "text/plain": [
              "<IPython.core.display.HTML object>"
            ],
            "text/html": [
              "\n",
              "     <input type=\"file\" id=\"files-9f09774e-0137-45ab-b43e-19a51c0a8276\" name=\"files[]\" multiple disabled\n",
              "        style=\"border:none\" />\n",
              "     <output id=\"result-9f09774e-0137-45ab-b43e-19a51c0a8276\">\n",
              "      Upload widget is only available when the cell has been executed in the\n",
              "      current browser session. Please rerun this cell to enable.\n",
              "      </output>\n",
              "      <script>// Copyright 2017 Google LLC\n",
              "//\n",
              "// Licensed under the Apache License, Version 2.0 (the \"License\");\n",
              "// you may not use this file except in compliance with the License.\n",
              "// You may obtain a copy of the License at\n",
              "//\n",
              "//      http://www.apache.org/licenses/LICENSE-2.0\n",
              "//\n",
              "// Unless required by applicable law or agreed to in writing, software\n",
              "// distributed under the License is distributed on an \"AS IS\" BASIS,\n",
              "// WITHOUT WARRANTIES OR CONDITIONS OF ANY KIND, either express or implied.\n",
              "// See the License for the specific language governing permissions and\n",
              "// limitations under the License.\n",
              "\n",
              "/**\n",
              " * @fileoverview Helpers for google.colab Python module.\n",
              " */\n",
              "(function(scope) {\n",
              "function span(text, styleAttributes = {}) {\n",
              "  const element = document.createElement('span');\n",
              "  element.textContent = text;\n",
              "  for (const key of Object.keys(styleAttributes)) {\n",
              "    element.style[key] = styleAttributes[key];\n",
              "  }\n",
              "  return element;\n",
              "}\n",
              "\n",
              "// Max number of bytes which will be uploaded at a time.\n",
              "const MAX_PAYLOAD_SIZE = 100 * 1024;\n",
              "\n",
              "function _uploadFiles(inputId, outputId) {\n",
              "  const steps = uploadFilesStep(inputId, outputId);\n",
              "  const outputElement = document.getElementById(outputId);\n",
              "  // Cache steps on the outputElement to make it available for the next call\n",
              "  // to uploadFilesContinue from Python.\n",
              "  outputElement.steps = steps;\n",
              "\n",
              "  return _uploadFilesContinue(outputId);\n",
              "}\n",
              "\n",
              "// This is roughly an async generator (not supported in the browser yet),\n",
              "// where there are multiple asynchronous steps and the Python side is going\n",
              "// to poll for completion of each step.\n",
              "// This uses a Promise to block the python side on completion of each step,\n",
              "// then passes the result of the previous step as the input to the next step.\n",
              "function _uploadFilesContinue(outputId) {\n",
              "  const outputElement = document.getElementById(outputId);\n",
              "  const steps = outputElement.steps;\n",
              "\n",
              "  const next = steps.next(outputElement.lastPromiseValue);\n",
              "  return Promise.resolve(next.value.promise).then((value) => {\n",
              "    // Cache the last promise value to make it available to the next\n",
              "    // step of the generator.\n",
              "    outputElement.lastPromiseValue = value;\n",
              "    return next.value.response;\n",
              "  });\n",
              "}\n",
              "\n",
              "/**\n",
              " * Generator function which is called between each async step of the upload\n",
              " * process.\n",
              " * @param {string} inputId Element ID of the input file picker element.\n",
              " * @param {string} outputId Element ID of the output display.\n",
              " * @return {!Iterable<!Object>} Iterable of next steps.\n",
              " */\n",
              "function* uploadFilesStep(inputId, outputId) {\n",
              "  const inputElement = document.getElementById(inputId);\n",
              "  inputElement.disabled = false;\n",
              "\n",
              "  const outputElement = document.getElementById(outputId);\n",
              "  outputElement.innerHTML = '';\n",
              "\n",
              "  const pickedPromise = new Promise((resolve) => {\n",
              "    inputElement.addEventListener('change', (e) => {\n",
              "      resolve(e.target.files);\n",
              "    });\n",
              "  });\n",
              "\n",
              "  const cancel = document.createElement('button');\n",
              "  inputElement.parentElement.appendChild(cancel);\n",
              "  cancel.textContent = 'Cancel upload';\n",
              "  const cancelPromise = new Promise((resolve) => {\n",
              "    cancel.onclick = () => {\n",
              "      resolve(null);\n",
              "    };\n",
              "  });\n",
              "\n",
              "  // Wait for the user to pick the files.\n",
              "  const files = yield {\n",
              "    promise: Promise.race([pickedPromise, cancelPromise]),\n",
              "    response: {\n",
              "      action: 'starting',\n",
              "    }\n",
              "  };\n",
              "\n",
              "  cancel.remove();\n",
              "\n",
              "  // Disable the input element since further picks are not allowed.\n",
              "  inputElement.disabled = true;\n",
              "\n",
              "  if (!files) {\n",
              "    return {\n",
              "      response: {\n",
              "        action: 'complete',\n",
              "      }\n",
              "    };\n",
              "  }\n",
              "\n",
              "  for (const file of files) {\n",
              "    const li = document.createElement('li');\n",
              "    li.append(span(file.name, {fontWeight: 'bold'}));\n",
              "    li.append(span(\n",
              "        `(${file.type || 'n/a'}) - ${file.size} bytes, ` +\n",
              "        `last modified: ${\n",
              "            file.lastModifiedDate ? file.lastModifiedDate.toLocaleDateString() :\n",
              "                                    'n/a'} - `));\n",
              "    const percent = span('0% done');\n",
              "    li.appendChild(percent);\n",
              "\n",
              "    outputElement.appendChild(li);\n",
              "\n",
              "    const fileDataPromise = new Promise((resolve) => {\n",
              "      const reader = new FileReader();\n",
              "      reader.onload = (e) => {\n",
              "        resolve(e.target.result);\n",
              "      };\n",
              "      reader.readAsArrayBuffer(file);\n",
              "    });\n",
              "    // Wait for the data to be ready.\n",
              "    let fileData = yield {\n",
              "      promise: fileDataPromise,\n",
              "      response: {\n",
              "        action: 'continue',\n",
              "      }\n",
              "    };\n",
              "\n",
              "    // Use a chunked sending to avoid message size limits. See b/62115660.\n",
              "    let position = 0;\n",
              "    do {\n",
              "      const length = Math.min(fileData.byteLength - position, MAX_PAYLOAD_SIZE);\n",
              "      const chunk = new Uint8Array(fileData, position, length);\n",
              "      position += length;\n",
              "\n",
              "      const base64 = btoa(String.fromCharCode.apply(null, chunk));\n",
              "      yield {\n",
              "        response: {\n",
              "          action: 'append',\n",
              "          file: file.name,\n",
              "          data: base64,\n",
              "        },\n",
              "      };\n",
              "\n",
              "      let percentDone = fileData.byteLength === 0 ?\n",
              "          100 :\n",
              "          Math.round((position / fileData.byteLength) * 100);\n",
              "      percent.textContent = `${percentDone}% done`;\n",
              "\n",
              "    } while (position < fileData.byteLength);\n",
              "  }\n",
              "\n",
              "  // All done.\n",
              "  yield {\n",
              "    response: {\n",
              "      action: 'complete',\n",
              "    }\n",
              "  };\n",
              "}\n",
              "\n",
              "scope.google = scope.google || {};\n",
              "scope.google.colab = scope.google.colab || {};\n",
              "scope.google.colab._files = {\n",
              "  _uploadFiles,\n",
              "  _uploadFilesContinue,\n",
              "};\n",
              "})(self);\n",
              "</script> "
            ]
          },
          "metadata": {}
        }
      ]
    },
    {
      "cell_type": "code",
      "source": [],
      "metadata": {
        "id": "OLvG2_OA4g_1"
      },
      "execution_count": null,
      "outputs": []
    }
  ]
}