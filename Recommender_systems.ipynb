{
  "nbformat": 4,
  "nbformat_minor": 0,
  "metadata": {
    "colab": {
      "provenance": [],
      "authorship_tag": "ABX9TyNno/UYiQcf0FJBJc6SNy/e",
      "include_colab_link": true
    },
    "kernelspec": {
      "name": "python3",
      "display_name": "Python 3"
    },
    "language_info": {
      "name": "python"
    }
  },
  "cells": [
    {
      "cell_type": "markdown",
      "metadata": {
        "id": "view-in-github",
        "colab_type": "text"
      },
      "source": [
        "<a href=\"https://colab.research.google.com/github/Ahtesham519/Praticle_nlp_book/blob/main/Recommender_systems.ipynb\" target=\"_parent\"><img src=\"https://colab.research.google.com/assets/colab-badge.svg\" alt=\"Open In Colab\"/></a>"
      ]
    },
    {
      "cell_type": "code",
      "execution_count": 1,
      "metadata": {
        "colab": {
          "base_uri": "https://localhost:8080/"
        },
        "id": "Q4TDpEDqnr7o",
        "outputId": "dd2de118-97b0-48ae-dc98-ffd25fd1432e"
      },
      "outputs": [
        {
          "output_type": "stream",
          "name": "stdout",
          "text": [
            "Looking in indexes: https://pypi.org/simple, https://us-python.pkg.dev/colab-wheels/public/simple/\n",
            "Requirement already satisfied: gensim in /usr/local/lib/python3.10/dist-packages (4.3.1)\n",
            "Requirement already satisfied: numpy>=1.18.5 in /usr/local/lib/python3.10/dist-packages (from gensim) (1.22.4)\n",
            "Requirement already satisfied: scipy>=1.7.0 in /usr/local/lib/python3.10/dist-packages (from gensim) (1.10.1)\n",
            "Requirement already satisfied: smart-open>=1.8.1 in /usr/local/lib/python3.10/dist-packages (from gensim) (6.3.0)\n",
            "Looking in indexes: https://pypi.org/simple, https://us-python.pkg.dev/colab-wheels/public/simple/\n",
            "Requirement already satisfied: nltk in /usr/local/lib/python3.10/dist-packages (3.8.1)\n",
            "Requirement already satisfied: click in /usr/local/lib/python3.10/dist-packages (from nltk) (8.1.3)\n",
            "Requirement already satisfied: joblib in /usr/local/lib/python3.10/dist-packages (from nltk) (1.2.0)\n",
            "Requirement already satisfied: regex>=2021.8.3 in /usr/local/lib/python3.10/dist-packages (from nltk) (2022.10.31)\n",
            "Requirement already satisfied: tqdm in /usr/local/lib/python3.10/dist-packages (from nltk) (4.65.0)\n"
          ]
        }
      ],
      "source": [
        "!pip install gensim\n",
        "!pip install nltk"
      ]
    },
    {
      "cell_type": "code",
      "source": [
        "from nltk.tokenize import word_tokenize\n",
        "from gensim.models.doc2vec import Doc2Vec, TaggedDocument"
      ],
      "metadata": {
        "id": "YOL_WkHHn3s-"
      },
      "execution_count": 2,
      "outputs": []
    },
    {
      "cell_type": "code",
      "source": [
        "#Read the dataset's ReadMe to understand data format\n",
        "\n",
        "data_path = \"/content/booksummaries.txt\"\n",
        "mydata= {} #title-summaries dictionary object\n",
        "for line in open(data_path , encoding = \"utf - 8\"):\n",
        "  temp = line.split(\"\\t\")\n",
        "  mydata[temp[2]] = temp[6]\n",
        "\n"
      ],
      "metadata": {
        "id": "AcTpdgqsoEJs"
      },
      "execution_count": 7,
      "outputs": []
    },
    {
      "cell_type": "code",
      "source": [
        "import nltk\n",
        "nltk.download('punkt')"
      ],
      "metadata": {
        "colab": {
          "base_uri": "https://localhost:8080/"
        },
        "id": "5nGX8kOjvlzz",
        "outputId": "a8654044-211c-410f-f5b6-7b00e8da213f"
      },
      "execution_count": 12,
      "outputs": [
        {
          "output_type": "stream",
          "name": "stderr",
          "text": [
            "[nltk_data] Downloading package punkt to /root/nltk_data...\n",
            "[nltk_data]   Package punkt is already up-to-date!\n"
          ]
        },
        {
          "output_type": "execute_result",
          "data": {
            "text/plain": [
              "True"
            ]
          },
          "metadata": {},
          "execution_count": 12
        }
      ]
    },
    {
      "cell_type": "code",
      "source": [
        "#prepare the data for doc2vec, build and save a doc2vec model\n",
        "\n",
        "train_doc2vec = [TaggedDocument((word_tokenize(mydata[t])), tags = [t]) for t in mydata.keys()]\n",
        "model = Doc2Vec(vector_size = 50 , alpha = 0.025 , min_count = 10 , dm = 1 , epochs = 100 )\n",
        "model.build_vocab(train_doc2vec)\n",
        "model.train(train_doc2vec , total_examples = model.corpus_count , epochs = model.epochs)\n",
        "model.save(\"d2v.model\")"
      ],
      "metadata": {
        "id": "LH1bvLW9vnjj"
      },
      "execution_count": 13,
      "outputs": []
    },
    {
      "cell_type": "code",
      "source": [
        "#Use the model to look for similar texts\n",
        "model = Doc2Vec.load(\"d2v.model\")\n",
        "\n",
        "#This is a sentence from the summary of \"Animal Farm\" on Wikipedia:\n",
        "sample =\"\"\"\n",
        "napoleon enats changes to the governance structure of the farm, replacing meetings with a commitee of pigs who will run the farm.\n",
        "\"\"\"\n",
        "\n",
        "new_vector = model.infer_vector(word_tokenize(sample))\n",
        "sims = model.docvecs.most_similar([new_vector])\n",
        "print(sims)\n"
      ],
      "metadata": {
        "colab": {
          "base_uri": "https://localhost:8080/"
        },
        "id": "Wwn1HNFcraZs",
        "outputId": "13b0777d-ec9c-42ce-efcf-003ead83c422"
      },
      "execution_count": 14,
      "outputs": [
        {
          "output_type": "stream",
          "name": "stdout",
          "text": [
            "[('Animal Farm', 0.6407532095909119), ('Ponni', 0.6383562088012695), ('The Wild Irish Girl', 0.6302021145820618), ('Tros of Samothrace', 0.5796207189559937), ('Our Southern Highlanders', 0.5741811990737915), ('The Prophet', 0.5696573257446289), ('The Day of the Beast', 0.5669959783554077), ('Payback: Debt and the Shadow Side of Wealth', 0.5543463826179504), ('Babywise', 0.5530939698219299), ('The Divine Folly', 0.5489960312843323)]\n"
          ]
        },
        {
          "output_type": "stream",
          "name": "stderr",
          "text": [
            "<ipython-input-14-747abb944856>:10: DeprecationWarning: Call to deprecated `docvecs` (The `docvecs` property has been renamed `dv`.).\n",
            "  sims = model.docvecs.most_similar([new_vector])\n"
          ]
        }
      ]
    },
    {
      "cell_type": "code",
      "source": [],
      "metadata": {
        "id": "aBWgN_OntCmO"
      },
      "execution_count": null,
      "outputs": []
    }
  ]
}