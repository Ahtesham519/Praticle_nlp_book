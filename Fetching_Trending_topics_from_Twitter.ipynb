{
  "nbformat": 4,
  "nbformat_minor": 0,
  "metadata": {
    "colab": {
      "provenance": [],
      "authorship_tag": "ABX9TyNAhOZEqoALZXlTqqWdL4sE",
      "include_colab_link": true
    },
    "kernelspec": {
      "name": "python3",
      "display_name": "Python 3"
    },
    "language_info": {
      "name": "python"
    }
  },
  "cells": [
    {
      "cell_type": "markdown",
      "metadata": {
        "id": "view-in-github",
        "colab_type": "text"
      },
      "source": [
        "<a href=\"https://colab.research.google.com/github/Ahtesham519/Praticle_nlp_book/blob/main/Fetching_Trending_topics_from_Twitter.ipynb\" target=\"_parent\"><img src=\"https://colab.research.google.com/assets/colab-badge.svg\" alt=\"Open In Colab\"/></a>"
      ]
    },
    {
      "cell_type": "code",
      "source": [
        "import tweepy, json \n"
      ],
      "metadata": {
        "id": "FGeGUhuw6wzp"
      },
      "execution_count": 2,
      "outputs": []
    },
    {
      "cell_type": "code",
      "source": [
        "#setting all the credentials of your twwitter api developer account\n",
        "CONSUMER_KEY = 'insert your coustmer key'\n",
        "CONSUMER_SECRET= 'insert your customer secret key'\n",
        "ACCESS_KEY = 'insert your access key here'\n",
        "ACCESS_SECRET = 'insert your access secret key here'"
      ],
      "metadata": {
        "id": "j01MeLlG84kk"
      },
      "execution_count": 3,
      "outputs": []
    },
    {
      "cell_type": "code",
      "source": [
        "#Granting access to your twitter account \n",
        "\n",
        "auth = tweepy.OAuthHandler(CONSUMER_KEY , CONSUMER_SECRET)\n",
        "auth.set_access_token(ACCESS_KEY , ACCESS_SECRET)\n",
        "api = tweepy.API(auth)"
      ],
      "metadata": {
        "id": "lEaKo1dP9ODg"
      },
      "execution_count": 4,
      "outputs": []
    },
    {
      "cell_type": "code",
      "source": [
        "#A WOEID (Where on Earth IDentifier) is a unique 32-bit reference identifier.\n",
        "WORLD_WOE_ID = 1\n",
        "BRAZIL_WOE_ID = 23424768\n",
        "\n",
        "#Fetching trending topics in Brazil.\n",
        "\n",
        "brazil_trends = api.trends_place(BRAZIL_WOE_ID)\n",
        "trends = json.loads(json.dumps(brazil_trends, indent= 1))\n",
        "\n",
        "brazil_trend_list = []\n",
        "for trend in trends[0][\"trends\"]:\n",
        "  brazil_trend_list.append(trend[\"name\"].strip(\"#\"))\n",
        "\n",
        "#Fetching trending topics in the world .\n",
        "world_trends = api.trends_place(WORLD_WOE_ID)\n",
        "world_trends_json = json.loads(json.dumps(world_trends, indent = 1))\n",
        "\n",
        "world_trend_list = []\n",
        "for trend in world_trends_json[0][\"trends\"]:\n",
        "  world_trend_list.append(trend[\"name\"].strip(\"#\"))\n",
        "\n",
        "\n",
        "#Printing the topics which are trending in both WORLD and BRAZIL\n",
        "print(set(world_trend_list).insertion(set(brazil_trend_list)))"
      ],
      "metadata": {
        "id": "YcOVav8e9g2q"
      },
      "execution_count": null,
      "outputs": []
    },
    {
      "cell_type": "code",
      "source": [],
      "metadata": {
        "id": "DzwUFvQn-8w_"
      },
      "execution_count": null,
      "outputs": []
    }
  ]
}